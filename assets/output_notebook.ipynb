{
 "cells": [
  {
   "cell_type": "markdown",
   "id": "6a3a4a9f",
   "metadata": {
    "papermill": {
     "duration": 0.012042,
     "end_time": "2025-02-24T09:54:51.087285",
     "exception": false,
     "start_time": "2025-02-24T09:54:51.075243",
     "status": "completed"
    },
    "tags": []
   },
   "source": [
    "# Papermill Demonstration\n",
    "This notebook demonstrates how to parameterize and execute Jupyter Notebooks using Papermill."
   ]
  },
  {
   "cell_type": "code",
   "execution_count": 1,
   "id": "9159cd25",
   "metadata": {
    "editable": true,
    "execution": {
     "iopub.execute_input": "2025-02-24T09:54:51.112703Z",
     "iopub.status.busy": "2025-02-24T09:54:51.110609Z",
     "iopub.status.idle": "2025-02-24T09:54:51.126896Z",
     "shell.execute_reply": "2025-02-24T09:54:51.124983Z"
    },
    "papermill": {
     "duration": 0.025439,
     "end_time": "2025-02-24T09:54:51.129842",
     "exception": false,
     "start_time": "2025-02-24T09:54:51.104403",
     "status": "completed"
    },
    "slideshow": {
     "slide_type": ""
    },
    "tags": [
     "parameters"
    ]
   },
   "outputs": [],
   "source": [
    "# Parameters cell (Papermill will override these values)\n",
    "alpha = 0.1\n",
    "beta = 0.5"
   ]
  },
  {
   "cell_type": "code",
   "execution_count": 2,
   "id": "0db11d64",
   "metadata": {
    "editable": true,
    "execution": {
     "iopub.execute_input": "2025-02-24T09:54:51.150861Z",
     "iopub.status.busy": "2025-02-24T09:54:51.149469Z",
     "iopub.status.idle": "2025-02-24T09:54:51.162294Z",
     "shell.execute_reply": "2025-02-24T09:54:51.160036Z"
    },
    "papermill": {
     "duration": 0.02955,
     "end_time": "2025-02-24T09:54:51.166494",
     "exception": false,
     "start_time": "2025-02-24T09:54:51.136944",
     "status": "completed"
    },
    "slideshow": {
     "slide_type": ""
    },
    "tags": [
     "injected-parameters"
    ]
   },
   "outputs": [],
   "source": [
    "# Parameters\n",
    "alpha = 3\n",
    "beta = 3\n"
   ]
  },
  {
   "cell_type": "markdown",
   "id": "4e7875a3",
   "metadata": {
    "papermill": {
     "duration": 0.003312,
     "end_time": "2025-02-24T09:54:51.180090",
     "exception": false,
     "start_time": "2025-02-24T09:54:51.176778",
     "status": "completed"
    },
    "tags": []
   },
   "source": [
    "## Step 1: Install Papermill\n",
    "Ensure you have Papermill installed. You can install it using: \n",
    "```pip install papermill```"
   ]
  },
  {
   "cell_type": "code",
   "execution_count": 3,
   "id": "9b71389a",
   "metadata": {
    "execution": {
     "iopub.execute_input": "2025-02-24T09:54:51.191259Z",
     "iopub.status.busy": "2025-02-24T09:54:51.191259Z",
     "iopub.status.idle": "2025-02-24T09:54:51.589211Z",
     "shell.execute_reply": "2025-02-24T09:54:51.589211Z"
    },
    "papermill": {
     "duration": 0.404596,
     "end_time": "2025-02-24T09:54:51.590235",
     "exception": false,
     "start_time": "2025-02-24T09:54:51.185639",
     "status": "completed"
    },
    "tags": []
   },
   "outputs": [],
   "source": [
    "# Import required libraries\n",
    "import papermill"
   ]
  },
  {
   "cell_type": "markdown",
   "id": "4c92cab6",
   "metadata": {
    "papermill": {
     "duration": 0.001029,
     "end_time": "2025-02-24T09:54:51.592793",
     "exception": false,
     "start_time": "2025-02-24T09:54:51.591764",
     "status": "completed"
    },
    "tags": []
   },
   "source": [
    "## Step 2: Use Parameters in a Calculation"
   ]
  },
  {
   "cell_type": "code",
   "execution_count": 4,
   "id": "9c42375a",
   "metadata": {
    "execution": {
     "iopub.execute_input": "2025-02-24T09:54:51.595330Z",
     "iopub.status.busy": "2025-02-24T09:54:51.595330Z",
     "iopub.status.idle": "2025-02-24T09:54:51.607203Z",
     "shell.execute_reply": "2025-02-24T09:54:51.607203Z"
    },
    "papermill": {
     "duration": 0.014428,
     "end_time": "2025-02-24T09:54:51.608233",
     "exception": false,
     "start_time": "2025-02-24T09:54:51.593805",
     "status": "completed"
    },
    "tags": []
   },
   "outputs": [
    {
     "name": "stdout",
     "output_type": "stream",
     "text": [
      "Result of multiplication: 9\n"
     ]
    }
   ],
   "source": [
    "# Simple computation using parameters\n",
    "result = alpha * beta\n",
    "print(f'Result of multiplication: {result}')"
   ]
  },
  {
   "cell_type": "markdown",
   "id": "c3b1de1e",
   "metadata": {
    "editable": true,
    "papermill": {
     "duration": 0.001085,
     "end_time": "2025-02-24T09:54:51.610411",
     "exception": false,
     "start_time": "2025-02-24T09:54:51.609326",
     "status": "completed"
    },
    "slideshow": {
     "slide_type": ""
    },
    "tags": []
   },
   "source": [
    "## Step 3: Execute Notebook with Papermill\n",
    "To execute this notebook with different parameters, use the following command in your terminal:\n",
    "```\n",
    "papermill papermill_demo.ipynb output_notebook.ipynb -p alpha 1 -p beta 1\n",
    "```\n",
    "This will run the notebook with updated parameters and save the output in the output notebook."
   ]
  },
  {
   "cell_type": "markdown",
   "id": "55e27b5b",
   "metadata": {
    "papermill": {
     "duration": 0.001042,
     "end_time": "2025-02-24T09:54:51.612606",
     "exception": false,
     "start_time": "2025-02-24T09:54:51.611564",
     "status": "completed"
    },
    "tags": []
   },
   "source": [
    "## Step 4: Logging Results to CSV file"
   ]
  },
  {
   "cell_type": "code",
   "execution_count": 5,
   "id": "9bd9055e",
   "metadata": {
    "execution": {
     "iopub.execute_input": "2025-02-24T09:54:51.615222Z",
     "iopub.status.busy": "2025-02-24T09:54:51.615222Z",
     "iopub.status.idle": "2025-02-24T09:54:51.618861Z",
     "shell.execute_reply": "2025-02-24T09:54:51.618861Z"
    },
    "papermill": {
     "duration": 0.006242,
     "end_time": "2025-02-24T09:54:51.619907",
     "exception": false,
     "start_time": "2025-02-24T09:54:51.613665",
     "status": "completed"
    },
    "tags": []
   },
   "outputs": [
    {
     "name": "stdout",
     "output_type": "stream",
     "text": [
      "Logged execution: alpha=3, beta=3\n"
     ]
    }
   ],
   "source": [
    "import csv\n",
    "import os\n",
    "from datetime import datetime\n",
    "\n",
    "# Define CSV file\n",
    "csv_filename = \"execution_log.csv\"\n",
    "file_exists = os.path.isfile(csv_filename)\n",
    "\n",
    "# Timestamp\n",
    "timestamp = datetime.now().strftime(\"%Y-%m-%d %H:%M:%S\")\n",
    "\n",
    "# Get the injected parameters\n",
    "alpha = locals().get(\"alpha\", \"N/A\")  # Gets 'alpha' if available\n",
    "beta = locals().get(\"beta\", \"N/A\")    # Gets 'beta' if available\n",
    "\n",
    "# Get the results\n",
    "result = locals().get(\"result\", \"N/A\")\n",
    "\n",
    "# Append to CSV\n",
    "with open(csv_filename, mode=\"a\", newline=\"\") as file:\n",
    "    writer = csv.writer(file)\n",
    "    if not file_exists:\n",
    "        writer.writerow([\"Timestamp\", \"Alpha\", \"Beta\", \"Result\"])  # Write headers\n",
    "\n",
    "    writer.writerow([timestamp, alpha, beta, result])\n",
    "\n",
    "print(f\"Logged execution: alpha={alpha}, beta={beta}\")"
   ]
  }
 ],
 "metadata": {
  "kernelspec": {
   "display_name": "Python 3 (ipykernel)",
   "language": "python",
   "name": "python3"
  },
  "language_info": {
   "codemirror_mode": {
    "name": "ipython",
    "version": 3
   },
   "file_extension": ".py",
   "mimetype": "text/x-python",
   "name": "python",
   "nbconvert_exporter": "python",
   "pygments_lexer": "ipython3",
   "version": "3.12.4"
  },
  "papermill": {
   "default_parameters": {},
   "duration": 2.945057,
   "end_time": "2025-02-24T09:54:51.945961",
   "environment_variables": {},
   "exception": null,
   "input_path": "papermill_demo.ipynb",
   "output_path": "output_notebook.ipynb",
   "parameters": {
    "alpha": 3,
    "beta": 3
   },
   "start_time": "2025-02-24T09:54:49.000904",
   "version": "2.6.0"
  }
 },
 "nbformat": 4,
 "nbformat_minor": 5
}
