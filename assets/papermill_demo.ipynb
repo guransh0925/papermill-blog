{
 "cells": [
  {
   "cell_type": "markdown",
   "metadata": {},
   "source": [
    "# Papermill Demonstration\n",
    "This notebook demonstrates how to parameterize and execute Jupyter Notebooks using Papermill."
   ]
  },
  {
   "cell_type": "code",
   "execution_count": 1,
   "metadata": {
    "editable": true,
    "slideshow": {
     "slide_type": ""
    },
    "tags": [
     "parameters"
    ]
   },
   "outputs": [],
   "source": [
    "# Parameters cell (Papermill will override these values)\n",
    "alpha = 0.1\n",
    "beta = 0.5"
   ]
  },
  {
   "cell_type": "markdown",
   "metadata": {},
   "source": [
    "## Step 1: Install Papermill\n",
    "Ensure you have Papermill installed. You can install it using: \n",
    "```pip install papermill```"
   ]
  },
  {
   "cell_type": "code",
   "execution_count": 2,
   "metadata": {},
   "outputs": [],
   "source": [
    "# Import required libraries\n",
    "import papermill"
   ]
  },
  {
   "cell_type": "markdown",
   "metadata": {},
   "source": [
    "## Step 2: Use Parameters in a Calculation"
   ]
  },
  {
   "cell_type": "code",
   "execution_count": 3,
   "metadata": {},
   "outputs": [
    {
     "name": "stdout",
     "output_type": "stream",
     "text": [
      "Result of multiplication: 0.05\n"
     ]
    }
   ],
   "source": [
    "# Simple computation using parameters\n",
    "result = alpha * beta\n",
    "print(f'Result of multiplication: {result}')"
   ]
  },
  {
   "cell_type": "markdown",
   "metadata": {},
   "source": [
    "## Step 3: Execute Notebook with Papermill\n",
    "To execute this notebook with different parameters, use the following command in your terminal:\n",
    "```\n",
    "papermill papermill_demo.ipynb output_notebook.ipynb -p alpha 1 -p beta 1\n",
    "```\n",
    "This will run the notebook with updated parameters and save the output in the output notebook."
   ]
  },
  {
   "cell_type": "markdown",
   "metadata": {},
   "source": [
    "## Step 4: Logging Results to CSV file"
   ]
  },
  {
   "cell_type": "code",
   "execution_count": 4,
   "metadata": {},
   "outputs": [
    {
     "name": "stdout",
     "output_type": "stream",
     "text": [
      "Logged execution: alpha=0.1, beta=0.5\n"
     ]
    }
   ],
   "source": [
    "import csv\n",
    "import os\n",
    "from datetime import datetime\n",
    "\n",
    "# Define CSV file\n",
    "csv_filename = \"execution_log.csv\"\n",
    "file_exists = os.path.isfile(csv_filename)\n",
    "\n",
    "# Timestamp\n",
    "timestamp = datetime.now().strftime(\"%Y-%m-%d %H:%M:%S\")\n",
    "\n",
    "# Get the injected parameters\n",
    "alpha = locals().get(\"alpha\", \"N/A\")  # Gets 'alpha' if available\n",
    "beta = locals().get(\"beta\", \"N/A\")    # Gets 'beta' if available\n",
    "\n",
    "# Get the results\n",
    "result = locals().get(\"result\", \"N/A\")\n",
    "\n",
    "# Append to CSV\n",
    "with open(csv_filename, mode=\"a\", newline=\"\") as file:\n",
    "    writer = csv.writer(file)\n",
    "    if not file_exists:\n",
    "        writer.writerow([\"Timestamp\", \"Alpha\", \"Beta\", \"Result\"])  # Write headers\n",
    "\n",
    "    writer.writerow([timestamp, alpha, beta, result])\n",
    "\n",
    "print(f\"Logged execution: alpha={alpha}, beta={beta}\")"
   ]
  }
 ],
 "metadata": {
  "kernelspec": {
   "display_name": "Python 3 (ipykernel)",
   "language": "python",
   "name": "python3"
  },
  "language_info": {
   "codemirror_mode": {
    "name": "ipython",
    "version": 3
   },
   "file_extension": ".py",
   "mimetype": "text/x-python",
   "name": "python",
   "nbconvert_exporter": "python",
   "pygments_lexer": "ipython3",
   "version": "3.12.4"
  }
 },
 "nbformat": 4,
 "nbformat_minor": 4
}
